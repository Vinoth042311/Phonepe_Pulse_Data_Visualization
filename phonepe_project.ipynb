{
  "nbformat": 4,
  "nbformat_minor": 0,
  "metadata": {
    "colab": {
      "provenance": []
    },
    "kernelspec": {
      "name": "python3",
      "display_name": "Python 3"
    },
    "language_info": {
      "name": "python"
    }
  },
  "cells": [
    {
      "cell_type": "code",
      "execution_count": null,
      "metadata": {
        "colab": {
          "base_uri": "https://localhost:8080/"
        },
        "id": "IespvPr9XtJc",
        "outputId": "cc692f31-f151-4579-85ee-4ddf2bc19c23"
      },
      "outputs": [
        {
          "output_type": "stream",
          "name": "stdout",
          "text": [
            "Cloning into 'pulse'...\n",
            "remote: Enumerating objects: 8891, done.\u001b[K\n",
            "remote: Counting objects: 100% (8891/8891), done.\u001b[K\n",
            "remote: Compressing objects: 100% (7400/7400), done.\u001b[K\n",
            "remote: Total 8891 (delta 2789), reused 7257 (delta 1170), pack-reused 0\u001b[K\n",
            "Receiving objects: 100% (8891/8891), 2.30 MiB | 10.24 MiB/s, done.\n",
            "Resolving deltas: 100% (2789/2789), done.\n"
          ]
        }
      ],
      "source": [
        "!git clone https://github.com/PhonePe/pulse.git"
      ]
    },
    {
      "cell_type": "code",
      "source": [
        "import pandas as pd\n",
        "\n",
        "import os\n",
        "\n",
        "import json\n",
        "\n"
      ],
      "metadata": {
        "id": "pXotSjMqYAbS"
      },
      "execution_count": null,
      "outputs": []
    },
    {
      "cell_type": "code",
      "source": [
        "path_1 =\"/content/pulse/data/aggregated/transaction/country/india/state/\"\n",
        "\n",
        "Agg_tran_state_list = os.listdir(path_1)\n",
        "\n",
        "Agg_tra = {'State': [], 'Year': [], 'Quarter': [], 'Transaction_type': [], 'Transaction_count': [], 'Transaction_amount': []}\n",
        "\n",
        "for i in Agg_tran_state_list:\n",
        "    p_i = path_1 + i + \"/\"\n",
        "    Agg_yr = os.listdir(p_i)\n",
        "\n",
        "    for j in Agg_yr:\n",
        "        p_j = p_i + j + \"/\"\n",
        "        Agg_yr_list = os.listdir(p_j)\n",
        "\n",
        "        for k in Agg_yr_list:\n",
        "            p_k = p_j + k\n",
        "            Data = open(p_k, 'r')\n",
        "            A = json.load(Data)\n",
        "\n",
        "            for l in A['data']['transactionData']:\n",
        "                Name = l['name']\n",
        "                count = l['paymentInstruments'][0]['count']\n",
        "                amount = l['paymentInstruments'][0]['amount']\n",
        "                Agg_tra['State'].append(i)\n",
        "                Agg_tra['Year'].append(j)\n",
        "                Agg_tra['Quarter'].append(int(k.strip('.json')))\n",
        "                Agg_tra['Transaction_type'].append(Name)\n",
        "                Agg_tra['Transaction_count'].append(count)\n",
        "                Agg_tra['Transaction_amount'].append(amount)"
      ],
      "metadata": {
        "id": "pDv8oJsML0lS"
      },
      "execution_count": null,
      "outputs": []
    },
    {
      "cell_type": "code",
      "source": [
        "df_aggregated_transaction = pd.DataFrame(Agg_tra)"
      ],
      "metadata": {
        "id": "qNXNFnyNeWWN"
      },
      "execution_count": null,
      "outputs": []
    },
    {
      "cell_type": "code",
      "source": [
        "df_aggregated_transaction.to_csv(\"aggregated_transaction.csv\", index=False)"
      ],
      "metadata": {
        "id": "B3QdKNlSDPPr"
      },
      "execution_count": null,
      "outputs": []
    },
    {
      "cell_type": "code",
      "source": [
        "PATH = \"/content/pulse/data/aggregated/user/country/india/state\"\n",
        "Agg_user_state_list = os.listdir(PATH)\n",
        "\n",
        "Agg_user = {'State': [], 'Year': [], 'Quarter': [], 'Brands': [], 'User_Count': [], 'User_Percentage': []}\n",
        "\n",
        "for i in Agg_user_state_list:\n",
        "  p_i = PATH+'/'+i+'/'\n",
        "  Agg_yr = os.listdir(p_i)\n",
        "\n",
        "  for j in Agg_yr:\n",
        "      p_j = p_i + j + \"/\"\n",
        "      Agg_yr_list = os.listdir(p_j)\n",
        "\n",
        "      for k in Agg_yr_list:\n",
        "          p_k = p_j + k\n",
        "          Data = open(p_k, 'r')\n",
        "          B = json.load(Data)\n",
        "\n",
        "          try:\n",
        "              for l in B[\"data\"][\"usersByDevice\"]:\n",
        "                  brand_name = l[\"brand\"]\n",
        "                  count_ = l[\"count\"]\n",
        "                  ALL_percentage = l[\"percentage\"]\n",
        "                  Agg_user[\"State\"].append(i)\n",
        "                  Agg_user[\"Year\"].append(j)\n",
        "                  Agg_user[\"Quarter\"].append(int(k.strip('.json')))\n",
        "                  Agg_user[\"Brands\"].append(brand_name)\n",
        "                  Agg_user[\"User_Count\"].append(count_)\n",
        "                  Agg_user[\"User_Percentage\"].append(ALL_percentage*100)\n",
        "          except:\n",
        "              pass\n",
        "\n"
      ],
      "metadata": {
        "id": "Ruz0A7zyBjSl"
      },
      "execution_count": null,
      "outputs": []
    },
    {
      "cell_type": "code",
      "source": [
        "df_aggregated_user = pd.DataFrame(Agg_user)"
      ],
      "metadata": {
        "id": "M-RNfnooJ6fR"
      },
      "execution_count": null,
      "outputs": []
    },
    {
      "cell_type": "code",
      "source": [
        "df_aggregated_user"
      ],
      "metadata": {
        "id": "tm9-Ns49OYxs"
      },
      "execution_count": null,
      "outputs": []
    },
    {
      "cell_type": "code",
      "source": [
        "df_aggregated_user.to_csv(\"aggregated_user.csv\", index=False)"
      ],
      "metadata": {
        "id": "rwnkNMIwSIV7"
      },
      "execution_count": null,
      "outputs": []
    },
    {
      "cell_type": "markdown",
      "source": [
        "**map**"
      ],
      "metadata": {
        "id": "1FP85LtDQQ88"
      }
    },
    {
      "cell_type": "code",
      "source": [
        "path = '/content/pulse/data/map/transaction/hover/country/india/state'\n",
        "\n",
        "map_tra_state_list = os.listdir(path)\n",
        "\n",
        "map_tra = {'State': [], 'Year': [], 'Quarter': [], 'District': [], 'Transaction_Count': [], 'Transaction_Amount': []}\n",
        "\n",
        "for i in map_tra_state_list:\n",
        "    p_i = path+'/'+i+'/'\n",
        "    Agg_yr = os.listdir(p_i)\n",
        "\n",
        "    for j in Agg_yr:\n",
        "        p_j = p_i + j + \"/\"\n",
        "        Agg_yr_list = os.listdir(p_j)\n",
        "\n",
        "        for k in Agg_yr_list:\n",
        "            p_k = p_j + k\n",
        "            Data = open(p_k, 'r')\n",
        "            C = json.load(Data)\n",
        "\n",
        "            for l in C[\"data\"][\"hoverDataList\"]:\n",
        "                District = l[\"name\"]\n",
        "                count = l[\"metric\"][0][\"count\"]\n",
        "                amount = l[\"metric\"][0][\"amount\"]\n",
        "                map_tra['State'].append(i)\n",
        "                map_tra['Year'].append(j)\n",
        "                map_tra['Quarter'].append(int(k.strip('.json')))\n",
        "                map_tra[\"District\"].append(District)\n",
        "                map_tra[\"Transaction_Count\"].append(count)\n",
        "                map_tra[\"Transaction_Amount\"].append(amount)\n"
      ],
      "metadata": {
        "id": "-N2MkkfbQVjF"
      },
      "execution_count": null,
      "outputs": []
    },
    {
      "cell_type": "code",
      "source": [
        "df_map_transaction = pd.DataFrame(map_tra)"
      ],
      "metadata": {
        "id": "gXq4Y8gnRGXQ"
      },
      "execution_count": null,
      "outputs": []
    },
    {
      "cell_type": "code",
      "source": [
        "df_map_transaction"
      ],
      "metadata": {
        "id": "ai9duH0LRP7-"
      },
      "execution_count": null,
      "outputs": []
    },
    {
      "cell_type": "code",
      "source": [
        "df_map_transaction.to_csv(\"map_transaction.csv\", index=False)"
      ],
      "metadata": {
        "id": "SPMC_PPhSdY6"
      },
      "execution_count": null,
      "outputs": []
    },
    {
      "cell_type": "code",
      "source": [
        "path = '/content/pulse/data/map/user/hover/country/india/state'\n",
        "\n",
        "map_user_state_list = os.listdir(path)\n",
        "\n",
        "map_user = {\"State\": [], \"Year\": [], \"Quarter\": [], \"District\": [], \"Registered_User\": []}\n",
        "\n",
        "for i in map_user_state_list:\n",
        "    p_i = path+'/'+ i + \"/\"\n",
        "    Agg_yr = os.listdir(p_i)\n",
        "\n",
        "    for j in Agg_yr:\n",
        "        p_j = p_i + j + \"/\"\n",
        "        Agg_yr_list = os.listdir(p_j)\n",
        "\n",
        "        for k in Agg_yr_list:\n",
        "            p_k = p_j + k\n",
        "            Data = open(p_k, 'r')\n",
        "            D = json.load(Data)\n",
        "\n",
        "            for l in D[\"data\"][\"hoverData\"].items():\n",
        "                district = l[0]\n",
        "                registereduser = l[1][\"registeredUsers\"]\n",
        "                map_user['State'].append(i)\n",
        "                map_user['Year'].append(j)\n",
        "                map_user['Quarter'].append(int(k.strip('.json')))\n",
        "                map_user[\"District\"].append(district)\n",
        "                map_user[\"Registered_User\"].append(registereduser)"
      ],
      "metadata": {
        "id": "MfMHkPVzRYJi"
      },
      "execution_count": null,
      "outputs": []
    },
    {
      "cell_type": "code",
      "source": [
        "df_map_user = pd.DataFrame(map_user)"
      ],
      "metadata": {
        "id": "EllVq6vuTGEW"
      },
      "execution_count": null,
      "outputs": []
    },
    {
      "cell_type": "code",
      "source": [
        "df_map_user"
      ],
      "metadata": {
        "id": "VAoRF2tETKQS"
      },
      "execution_count": null,
      "outputs": []
    },
    {
      "cell_type": "code",
      "source": [
        "df_map_user.to_csv(\"map_user.csv\", index=False)"
      ],
      "metadata": {
        "id": "8q8Psoz0Szp1"
      },
      "execution_count": null,
      "outputs": []
    },
    {
      "cell_type": "markdown",
      "source": [
        "Top"
      ],
      "metadata": {
        "id": "NT5bV1wtTZm-"
      }
    },
    {
      "cell_type": "code",
      "source": [
        "path = '/content/pulse/data/top/transaction/country/india/state'\n",
        "top_tra_state_list = os.listdir(path)\n",
        "\n",
        "top_tra_state_list = os.listdir(path)\n",
        "\n",
        "top_tra = {'State': [], 'Year': [], 'Quarter': [], 'District_Pincode': [], 'Transaction_count': [], 'Transaction_amount': []}\n",
        "\n",
        "for i in top_tra_state_list:\n",
        "    p_i = path+\"/\" + i + \"/\"\n",
        "    Agg_yr = os.listdir(p_i)\n",
        "\n",
        "    for j in Agg_yr:\n",
        "        p_j = p_i + j + \"/\"\n",
        "        Agg_yr_list = os.listdir(p_j)\n",
        "\n",
        "        for k in Agg_yr_list:\n",
        "            p_k = p_j + k\n",
        "            Data = open(p_k, 'r')\n",
        "            E = json.load(Data)\n",
        "\n",
        "            for l in E['data']['pincodes']:\n",
        "                Name = l['entityName']\n",
        "                count = l['metric']['count']\n",
        "                amount = l['metric']['amount']\n",
        "                top_tra['State'].append(i)\n",
        "                top_tra['Year'].append(j)\n",
        "                top_tra['Quarter'].append(int(k.strip('.json')))\n",
        "                top_tra['District_Pincode'].append(Name)\n",
        "                top_tra['Transaction_count'].append(count)\n",
        "                top_tra['Transaction_amount'].append(amount)"
      ],
      "metadata": {
        "id": "zubNoIc6TYL9"
      },
      "execution_count": null,
      "outputs": []
    },
    {
      "cell_type": "code",
      "source": [
        "df_top_transaction = pd.DataFrame(top_tra)\n"
      ],
      "metadata": {
        "id": "BudXrT2jXqRD"
      },
      "execution_count": null,
      "outputs": []
    },
    {
      "cell_type": "code",
      "source": [
        "df_top_transaction"
      ],
      "metadata": {
        "id": "NCdo9bvJXtAR",
        "colab": {
          "base_uri": "https://localhost:8080/",
          "height": 424
        },
        "outputId": "143f02bb-fa1b-4dae-e0fb-ba2b9e14376f"
      },
      "execution_count": null,
      "outputs": [
        {
          "output_type": "execute_result",
          "data": {
            "text/plain": [
              "       State  Year  Quarter District_Pincode  Transaction_count  \\\n",
              "0     ladakh  2023        2           194101             736089   \n",
              "1     ladakh  2023        2           194104             613774   \n",
              "2     ladakh  2023        2           194201             383971   \n",
              "3     ladakh  2023        2           194401             201619   \n",
              "4     ladakh  2023        2           194103             193547   \n",
              "...      ...   ...      ...              ...                ...   \n",
              "7848   bihar  2020        4           842002             792841   \n",
              "7849   bihar  2020        4           823001             720110   \n",
              "7850   bihar  2020        4           812002             699980   \n",
              "7851   bihar  2020        4           854301             664144   \n",
              "7852   bihar  2020        4           846004             649173   \n",
              "\n",
              "      Transaction_amount  \n",
              "0           1.826645e+09  \n",
              "1           1.340108e+09  \n",
              "2           1.032046e+09  \n",
              "3           6.032120e+08  \n",
              "4           3.464811e+08  \n",
              "...                  ...  \n",
              "7848        1.898126e+09  \n",
              "7849        1.504142e+09  \n",
              "7850        1.975708e+09  \n",
              "7851        1.546080e+09  \n",
              "7852        1.515856e+09  \n",
              "\n",
              "[7853 rows x 6 columns]"
            ],
            "text/html": [
              "\n",
              "  <div id=\"df-7504778b-2374-49c3-8fbf-c4b890114616\" class=\"colab-df-container\">\n",
              "    <div>\n",
              "<style scoped>\n",
              "    .dataframe tbody tr th:only-of-type {\n",
              "        vertical-align: middle;\n",
              "    }\n",
              "\n",
              "    .dataframe tbody tr th {\n",
              "        vertical-align: top;\n",
              "    }\n",
              "\n",
              "    .dataframe thead th {\n",
              "        text-align: right;\n",
              "    }\n",
              "</style>\n",
              "<table border=\"1\" class=\"dataframe\">\n",
              "  <thead>\n",
              "    <tr style=\"text-align: right;\">\n",
              "      <th></th>\n",
              "      <th>State</th>\n",
              "      <th>Year</th>\n",
              "      <th>Quarter</th>\n",
              "      <th>District_Pincode</th>\n",
              "      <th>Transaction_count</th>\n",
              "      <th>Transaction_amount</th>\n",
              "    </tr>\n",
              "  </thead>\n",
              "  <tbody>\n",
              "    <tr>\n",
              "      <th>0</th>\n",
              "      <td>ladakh</td>\n",
              "      <td>2023</td>\n",
              "      <td>2</td>\n",
              "      <td>194101</td>\n",
              "      <td>736089</td>\n",
              "      <td>1.826645e+09</td>\n",
              "    </tr>\n",
              "    <tr>\n",
              "      <th>1</th>\n",
              "      <td>ladakh</td>\n",
              "      <td>2023</td>\n",
              "      <td>2</td>\n",
              "      <td>194104</td>\n",
              "      <td>613774</td>\n",
              "      <td>1.340108e+09</td>\n",
              "    </tr>\n",
              "    <tr>\n",
              "      <th>2</th>\n",
              "      <td>ladakh</td>\n",
              "      <td>2023</td>\n",
              "      <td>2</td>\n",
              "      <td>194201</td>\n",
              "      <td>383971</td>\n",
              "      <td>1.032046e+09</td>\n",
              "    </tr>\n",
              "    <tr>\n",
              "      <th>3</th>\n",
              "      <td>ladakh</td>\n",
              "      <td>2023</td>\n",
              "      <td>2</td>\n",
              "      <td>194401</td>\n",
              "      <td>201619</td>\n",
              "      <td>6.032120e+08</td>\n",
              "    </tr>\n",
              "    <tr>\n",
              "      <th>4</th>\n",
              "      <td>ladakh</td>\n",
              "      <td>2023</td>\n",
              "      <td>2</td>\n",
              "      <td>194103</td>\n",
              "      <td>193547</td>\n",
              "      <td>3.464811e+08</td>\n",
              "    </tr>\n",
              "    <tr>\n",
              "      <th>...</th>\n",
              "      <td>...</td>\n",
              "      <td>...</td>\n",
              "      <td>...</td>\n",
              "      <td>...</td>\n",
              "      <td>...</td>\n",
              "      <td>...</td>\n",
              "    </tr>\n",
              "    <tr>\n",
              "      <th>7848</th>\n",
              "      <td>bihar</td>\n",
              "      <td>2020</td>\n",
              "      <td>4</td>\n",
              "      <td>842002</td>\n",
              "      <td>792841</td>\n",
              "      <td>1.898126e+09</td>\n",
              "    </tr>\n",
              "    <tr>\n",
              "      <th>7849</th>\n",
              "      <td>bihar</td>\n",
              "      <td>2020</td>\n",
              "      <td>4</td>\n",
              "      <td>823001</td>\n",
              "      <td>720110</td>\n",
              "      <td>1.504142e+09</td>\n",
              "    </tr>\n",
              "    <tr>\n",
              "      <th>7850</th>\n",
              "      <td>bihar</td>\n",
              "      <td>2020</td>\n",
              "      <td>4</td>\n",
              "      <td>812002</td>\n",
              "      <td>699980</td>\n",
              "      <td>1.975708e+09</td>\n",
              "    </tr>\n",
              "    <tr>\n",
              "      <th>7851</th>\n",
              "      <td>bihar</td>\n",
              "      <td>2020</td>\n",
              "      <td>4</td>\n",
              "      <td>854301</td>\n",
              "      <td>664144</td>\n",
              "      <td>1.546080e+09</td>\n",
              "    </tr>\n",
              "    <tr>\n",
              "      <th>7852</th>\n",
              "      <td>bihar</td>\n",
              "      <td>2020</td>\n",
              "      <td>4</td>\n",
              "      <td>846004</td>\n",
              "      <td>649173</td>\n",
              "      <td>1.515856e+09</td>\n",
              "    </tr>\n",
              "  </tbody>\n",
              "</table>\n",
              "<p>7853 rows × 6 columns</p>\n",
              "</div>\n",
              "    <div class=\"colab-df-buttons\">\n",
              "\n",
              "  <div class=\"colab-df-container\">\n",
              "    <button class=\"colab-df-convert\" onclick=\"convertToInteractive('df-7504778b-2374-49c3-8fbf-c4b890114616')\"\n",
              "            title=\"Convert this dataframe to an interactive table.\"\n",
              "            style=\"display:none;\">\n",
              "\n",
              "  <svg xmlns=\"http://www.w3.org/2000/svg\" height=\"24px\" viewBox=\"0 -960 960 960\">\n",
              "    <path d=\"M120-120v-720h720v720H120Zm60-500h600v-160H180v160Zm220 220h160v-160H400v160Zm0 220h160v-160H400v160ZM180-400h160v-160H180v160Zm440 0h160v-160H620v160ZM180-180h160v-160H180v160Zm440 0h160v-160H620v160Z\"/>\n",
              "  </svg>\n",
              "    </button>\n",
              "\n",
              "  <style>\n",
              "    .colab-df-container {\n",
              "      display:flex;\n",
              "      gap: 12px;\n",
              "    }\n",
              "\n",
              "    .colab-df-convert {\n",
              "      background-color: #E8F0FE;\n",
              "      border: none;\n",
              "      border-radius: 50%;\n",
              "      cursor: pointer;\n",
              "      display: none;\n",
              "      fill: #1967D2;\n",
              "      height: 32px;\n",
              "      padding: 0 0 0 0;\n",
              "      width: 32px;\n",
              "    }\n",
              "\n",
              "    .colab-df-convert:hover {\n",
              "      background-color: #E2EBFA;\n",
              "      box-shadow: 0px 1px 2px rgba(60, 64, 67, 0.3), 0px 1px 3px 1px rgba(60, 64, 67, 0.15);\n",
              "      fill: #174EA6;\n",
              "    }\n",
              "\n",
              "    .colab-df-buttons div {\n",
              "      margin-bottom: 4px;\n",
              "    }\n",
              "\n",
              "    [theme=dark] .colab-df-convert {\n",
              "      background-color: #3B4455;\n",
              "      fill: #D2E3FC;\n",
              "    }\n",
              "\n",
              "    [theme=dark] .colab-df-convert:hover {\n",
              "      background-color: #434B5C;\n",
              "      box-shadow: 0px 1px 3px 1px rgba(0, 0, 0, 0.15);\n",
              "      filter: drop-shadow(0px 1px 2px rgba(0, 0, 0, 0.3));\n",
              "      fill: #FFFFFF;\n",
              "    }\n",
              "  </style>\n",
              "\n",
              "    <script>\n",
              "      const buttonEl =\n",
              "        document.querySelector('#df-7504778b-2374-49c3-8fbf-c4b890114616 button.colab-df-convert');\n",
              "      buttonEl.style.display =\n",
              "        google.colab.kernel.accessAllowed ? 'block' : 'none';\n",
              "\n",
              "      async function convertToInteractive(key) {\n",
              "        const element = document.querySelector('#df-7504778b-2374-49c3-8fbf-c4b890114616');\n",
              "        const dataTable =\n",
              "          await google.colab.kernel.invokeFunction('convertToInteractive',\n",
              "                                                    [key], {});\n",
              "        if (!dataTable) return;\n",
              "\n",
              "        const docLinkHtml = 'Like what you see? Visit the ' +\n",
              "          '<a target=\"_blank\" href=https://colab.research.google.com/notebooks/data_table.ipynb>data table notebook</a>'\n",
              "          + ' to learn more about interactive tables.';\n",
              "        element.innerHTML = '';\n",
              "        dataTable['output_type'] = 'display_data';\n",
              "        await google.colab.output.renderOutput(dataTable, element);\n",
              "        const docLink = document.createElement('div');\n",
              "        docLink.innerHTML = docLinkHtml;\n",
              "        element.appendChild(docLink);\n",
              "      }\n",
              "    </script>\n",
              "  </div>\n",
              "\n",
              "\n",
              "<div id=\"df-75484869-47bc-49fd-9c39-ff3b115c1521\">\n",
              "  <button class=\"colab-df-quickchart\" onclick=\"quickchart('df-75484869-47bc-49fd-9c39-ff3b115c1521')\"\n",
              "            title=\"Suggest charts.\"\n",
              "            style=\"display:none;\">\n",
              "\n",
              "<svg xmlns=\"http://www.w3.org/2000/svg\" height=\"24px\"viewBox=\"0 0 24 24\"\n",
              "     width=\"24px\">\n",
              "    <g>\n",
              "        <path d=\"M19 3H5c-1.1 0-2 .9-2 2v14c0 1.1.9 2 2 2h14c1.1 0 2-.9 2-2V5c0-1.1-.9-2-2-2zM9 17H7v-7h2v7zm4 0h-2V7h2v10zm4 0h-2v-4h2v4z\"/>\n",
              "    </g>\n",
              "</svg>\n",
              "  </button>\n",
              "\n",
              "<style>\n",
              "  .colab-df-quickchart {\n",
              "      --bg-color: #E8F0FE;\n",
              "      --fill-color: #1967D2;\n",
              "      --hover-bg-color: #E2EBFA;\n",
              "      --hover-fill-color: #174EA6;\n",
              "      --disabled-fill-color: #AAA;\n",
              "      --disabled-bg-color: #DDD;\n",
              "  }\n",
              "\n",
              "  [theme=dark] .colab-df-quickchart {\n",
              "      --bg-color: #3B4455;\n",
              "      --fill-color: #D2E3FC;\n",
              "      --hover-bg-color: #434B5C;\n",
              "      --hover-fill-color: #FFFFFF;\n",
              "      --disabled-bg-color: #3B4455;\n",
              "      --disabled-fill-color: #666;\n",
              "  }\n",
              "\n",
              "  .colab-df-quickchart {\n",
              "    background-color: var(--bg-color);\n",
              "    border: none;\n",
              "    border-radius: 50%;\n",
              "    cursor: pointer;\n",
              "    display: none;\n",
              "    fill: var(--fill-color);\n",
              "    height: 32px;\n",
              "    padding: 0;\n",
              "    width: 32px;\n",
              "  }\n",
              "\n",
              "  .colab-df-quickchart:hover {\n",
              "    background-color: var(--hover-bg-color);\n",
              "    box-shadow: 0 1px 2px rgba(60, 64, 67, 0.3), 0 1px 3px 1px rgba(60, 64, 67, 0.15);\n",
              "    fill: var(--button-hover-fill-color);\n",
              "  }\n",
              "\n",
              "  .colab-df-quickchart-complete:disabled,\n",
              "  .colab-df-quickchart-complete:disabled:hover {\n",
              "    background-color: var(--disabled-bg-color);\n",
              "    fill: var(--disabled-fill-color);\n",
              "    box-shadow: none;\n",
              "  }\n",
              "\n",
              "  .colab-df-spinner {\n",
              "    border: 2px solid var(--fill-color);\n",
              "    border-color: transparent;\n",
              "    border-bottom-color: var(--fill-color);\n",
              "    animation:\n",
              "      spin 1s steps(1) infinite;\n",
              "  }\n",
              "\n",
              "  @keyframes spin {\n",
              "    0% {\n",
              "      border-color: transparent;\n",
              "      border-bottom-color: var(--fill-color);\n",
              "      border-left-color: var(--fill-color);\n",
              "    }\n",
              "    20% {\n",
              "      border-color: transparent;\n",
              "      border-left-color: var(--fill-color);\n",
              "      border-top-color: var(--fill-color);\n",
              "    }\n",
              "    30% {\n",
              "      border-color: transparent;\n",
              "      border-left-color: var(--fill-color);\n",
              "      border-top-color: var(--fill-color);\n",
              "      border-right-color: var(--fill-color);\n",
              "    }\n",
              "    40% {\n",
              "      border-color: transparent;\n",
              "      border-right-color: var(--fill-color);\n",
              "      border-top-color: var(--fill-color);\n",
              "    }\n",
              "    60% {\n",
              "      border-color: transparent;\n",
              "      border-right-color: var(--fill-color);\n",
              "    }\n",
              "    80% {\n",
              "      border-color: transparent;\n",
              "      border-right-color: var(--fill-color);\n",
              "      border-bottom-color: var(--fill-color);\n",
              "    }\n",
              "    90% {\n",
              "      border-color: transparent;\n",
              "      border-bottom-color: var(--fill-color);\n",
              "    }\n",
              "  }\n",
              "</style>\n",
              "\n",
              "  <script>\n",
              "    async function quickchart(key) {\n",
              "      const quickchartButtonEl =\n",
              "        document.querySelector('#' + key + ' button');\n",
              "      quickchartButtonEl.disabled = true;  // To prevent multiple clicks.\n",
              "      quickchartButtonEl.classList.add('colab-df-spinner');\n",
              "      try {\n",
              "        const charts = await google.colab.kernel.invokeFunction(\n",
              "            'suggestCharts', [key], {});\n",
              "      } catch (error) {\n",
              "        console.error('Error during call to suggestCharts:', error);\n",
              "      }\n",
              "      quickchartButtonEl.classList.remove('colab-df-spinner');\n",
              "      quickchartButtonEl.classList.add('colab-df-quickchart-complete');\n",
              "    }\n",
              "    (() => {\n",
              "      let quickchartButtonEl =\n",
              "        document.querySelector('#df-75484869-47bc-49fd-9c39-ff3b115c1521 button');\n",
              "      quickchartButtonEl.style.display =\n",
              "        google.colab.kernel.accessAllowed ? 'block' : 'none';\n",
              "    })();\n",
              "  </script>\n",
              "</div>\n",
              "    </div>\n",
              "  </div>\n"
            ]
          },
          "metadata": {},
          "execution_count": 20
        }
      ]
    },
    {
      "cell_type": "code",
      "source": [
        "df_top_transaction.to_csv(\"top_transaction.csv\", index=False)"
      ],
      "metadata": {
        "id": "UHHUKrlVTW3d"
      },
      "execution_count": null,
      "outputs": []
    },
    {
      "cell_type": "code",
      "source": [
        "path = '/content/pulse/data/top/user/country/india/state'\n",
        "top_user_state_list = os.listdir(path)\n",
        "\n",
        "top_user = {'State': [], 'Year': [], 'Quarter': [], 'District_Pincode': [], 'Registered_User': []}\n",
        "\n",
        "for i in top_user_state_list:\n",
        "    p_i = path+ \"/\" + i + \"/\"\n",
        "    Agg_yr = os.listdir(p_i)\n",
        "\n",
        "    for j in Agg_yr:\n",
        "        p_j = p_i + j + \"/\"\n",
        "        Agg_yr_list = os.listdir(p_j)\n",
        "\n",
        "        for k in Agg_yr_list:\n",
        "            p_k = p_j + k\n",
        "            Data = open(p_k, 'r')\n",
        "            F = json.load(Data)\n",
        "\n",
        "            for l in F['data']['pincodes']:\n",
        "                Name = l['name']\n",
        "                registeredUser = l['registeredUsers']\n",
        "                top_user['State'].append(i)\n",
        "                top_user['Year'].append(j)\n",
        "                top_user['Quarter'].append(int(k.strip('.json')))\n",
        "                top_user['District_Pincode'].append(Name)\n",
        "                top_user['Registered_User'].append(registeredUser)\n"
      ],
      "metadata": {
        "id": "TSLfvPRiXxhG"
      },
      "execution_count": null,
      "outputs": []
    },
    {
      "cell_type": "code",
      "source": [
        "df_top_user = pd.DataFrame(top_user)"
      ],
      "metadata": {
        "id": "eMq6VZrEYTvr"
      },
      "execution_count": null,
      "outputs": []
    },
    {
      "cell_type": "code",
      "source": [
        "df_top_user"
      ],
      "metadata": {
        "id": "_ar1JnzPYfWv"
      },
      "execution_count": null,
      "outputs": []
    },
    {
      "cell_type": "code",
      "source": [
        "df_top_user.to_csv(\"top_user.csv\", index=False)"
      ],
      "metadata": {
        "id": "QVFBy2KiTmzJ"
      },
      "execution_count": null,
      "outputs": []
    }
  ]
}